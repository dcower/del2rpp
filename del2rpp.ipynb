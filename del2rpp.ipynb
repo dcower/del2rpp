{
  "nbformat": 4,
  "nbformat_minor": 0,
  "metadata": {
    "colab": {
      "name": "del2rpp",
      "provenance": [],
      "private_outputs": true,
      "collapsed_sections": [],
      "toc_visible": true,
      "authorship_tag": "ABX9TyOh02lSb71e6ziFhFdhTE8O",
      "include_colab_link": true
    },
    "kernelspec": {
      "name": "python3",
      "display_name": "Python 3"
    }
  },
  "cells": [
    {
      "cell_type": "markdown",
      "metadata": {
        "id": "view-in-github",
        "colab_type": "text"
      },
      "source": [
        "<a href=\"https://colab.research.google.com/github/dcower/del2rpp/blob/master/del2rpp.ipynb\" target=\"_parent\"><img src=\"https://colab.research.google.com/assets/colab-badge.svg\" alt=\"Open In Colab\"/></a>"
      ]
    },
    {
      "cell_type": "markdown",
      "metadata": {
        "id": "U-8zkKzbVr0D",
        "colab_type": "text"
      },
      "source": [
        "# Instructions\n",
        "1. Click `Runtime > Run all`.\n",
        "2. Scroll to the bottom and upload a Deluge song file.\n",
        "3. Download the converted REAPER project file."
      ]
    },
    {
      "cell_type": "markdown",
      "metadata": {
        "id": "5Gmx0zOoUDMY",
        "colab_type": "text"
      },
      "source": [
        "# Setup\n",
        "Clone the repo and install RPP for writing REAPER project files:"
      ]
    },
    {
      "cell_type": "code",
      "metadata": {
        "id": "heVQlzTwxy9g",
        "colab_type": "code",
        "colab": {}
      },
      "source": [
        "!rm -rf del2rpp\n",
        "!git clone https://github.com/dcower/del2rpp.git\n",
        "!pip install rpp"
      ],
      "execution_count": 0,
      "outputs": []
    },
    {
      "cell_type": "markdown",
      "metadata": {
        "id": "rgKFw1-RURJK",
        "colab_type": "text"
      },
      "source": [
        "# Convert\n",
        "Use this snippet to convert your Deluge song files to REAPER projects.\n",
        "\n",
        "Instructions:\n",
        "1. Run the snippet.\n",
        "2. Upload a Deluge song file (`.XML` extension).\n",
        "3. The resulting REAPER project file (`.rpp` extension) should be automatically downloaded.\n",
        "4. Rinse and repeat (upload another file, download another file, and so on)."
      ]
    },
    {
      "cell_type": "code",
      "metadata": {
        "id": "Jstn5MqTzNOn",
        "colab_type": "code",
        "colab": {}
      },
      "source": [
        "from google.colab import files\n",
        "from del2rpp import del2rpp\n",
        "import os\n",
        "import types\n",
        "\n",
        "while True:\n",
        "  uploaded = files.upload()\n",
        "\n",
        "  if len(uploaded.items()) == 0:\n",
        "    break\n",
        "\n",
        "  for name, data in uploaded.items():\n",
        "    output_name = os.path.splitext(name)[0] + \".rpp\"\n",
        "\n",
        "    # If a file with the same name has been uploaded before, Colab doesn't give\n",
        "    # us that new filename; so we always write the data to a known file.\n",
        "    INPUT_NAME = \"Song.XML\"\n",
        "    open(INPUT_NAME, \"wb\").write(data)\n",
        "\n",
        "    args=types.SimpleNamespace()\n",
        "    args.input_file = open(INPUT_NAME, \"r\")\n",
        "    args.output_file = open(output_name, \"w\")\n",
        "\n",
        "    del2rpp.convert(args)\n",
        "\n",
        "    files.download(output_name)"
      ],
      "execution_count": 0,
      "outputs": []
    }
  ]
}